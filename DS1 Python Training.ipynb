{
 "cells": [
  {
   "cell_type": "markdown",
   "id": "64c5db4c",
   "metadata": {},
   "source": [
    "import numpy as np"
   ]
  },
  {
   "cell_type": "markdown",
   "id": "a5052df2",
   "metadata": {},
   "source": [
    "# Intro to Python"
   ]
  },
  {
   "cell_type": "markdown",
   "id": "87db5497",
   "metadata": {},
   "source": [
    "# Part 1 Data Types"
   ]
  },
  {
   "cell_type": "code",
   "execution_count": 10,
   "id": "acf5e118",
   "metadata": {},
   "outputs": [],
   "source": [
    "#Assigning the variable 'v' the value 1\n",
    "v = 1.1"
   ]
  },
  {
   "cell_type": "code",
   "execution_count": 11,
   "id": "b77a5a0f",
   "metadata": {},
   "outputs": [
    {
     "data": {
      "text/plain": [
       "1.1"
      ]
     },
     "execution_count": 11,
     "metadata": {},
     "output_type": "execute_result"
    }
   ],
   "source": [
    "v"
   ]
  },
  {
   "cell_type": "code",
   "execution_count": 12,
   "id": "4603a4da",
   "metadata": {},
   "outputs": [
    {
     "data": {
      "text/plain": [
       "float"
      ]
     },
     "execution_count": 12,
     "metadata": {},
     "output_type": "execute_result"
    }
   ],
   "source": [
    "#checking the data type of 'v'\n",
    "type(v)"
   ]
  },
  {
   "cell_type": "code",
   "execution_count": 13,
   "id": "68ab9082",
   "metadata": {},
   "outputs": [
    {
     "data": {
      "text/plain": [
       "str"
      ]
     },
     "execution_count": 13,
     "metadata": {},
     "output_type": "execute_result"
    }
   ],
   "source": [
    "z = 'Hi TMF'\n",
    "type(z)"
   ]
  },
  {
   "cell_type": "markdown",
   "id": "dfd6c670",
   "metadata": {},
   "source": [
    "## Numeric Operators"
   ]
  },
  {
   "cell_type": "code",
   "execution_count": 15,
   "id": "4f4e0c5d",
   "metadata": {},
   "outputs": [
    {
     "data": {
      "text/plain": [
       "-1"
      ]
     },
     "execution_count": 15,
     "metadata": {},
     "output_type": "execute_result"
    }
   ],
   "source": [
    "#mathematical operators\n",
    "1+2\n",
    "1-2"
   ]
  },
  {
   "cell_type": "code",
   "execution_count": 16,
   "id": "e647012c",
   "metadata": {},
   "outputs": [
    {
     "name": "stdout",
     "output_type": "stream",
     "text": [
      "3\n",
      "-1\n"
     ]
    }
   ],
   "source": [
    "print(1+2)\n",
    "print(1-2)"
   ]
  },
  {
   "cell_type": "code",
   "execution_count": 17,
   "id": "cb39d4f4",
   "metadata": {},
   "outputs": [
    {
     "name": "stdout",
     "output_type": "stream",
     "text": [
      "2\n",
      "0.5\n"
     ]
    }
   ],
   "source": [
    "print(1*2)\n",
    "print(1/2)"
   ]
  },
  {
   "cell_type": "code",
   "execution_count": 18,
   "id": "3aba306b",
   "metadata": {},
   "outputs": [
    {
     "name": "stdout",
     "output_type": "stream",
     "text": [
      "1.0\n"
     ]
    }
   ],
   "source": [
    "#quotient division (divide and round down to the nearest whole no)\n",
    "print(3.0//2.0)"
   ]
  },
  {
   "cell_type": "code",
   "execution_count": 26,
   "id": "1c6dabf8",
   "metadata": {},
   "outputs": [
    {
     "name": "stdout",
     "output_type": "stream",
     "text": [
      "9\n",
      "81\n",
      "32\n"
     ]
    }
   ],
   "source": [
    "#squaring\n",
    "print(3**2)\n",
    "print (3**4) #raising to a power (exponent)\n",
    "print(2**5)"
   ]
  },
  {
   "cell_type": "code",
   "execution_count": 25,
   "id": "09fe122b",
   "metadata": {},
   "outputs": [
    {
     "name": "stdout",
     "output_type": "stream",
     "text": [
      "1\n"
     ]
    }
   ],
   "source": [
    "#modulo (finds reminder)\n",
    "print(5%2)"
   ]
  },
  {
   "cell_type": "markdown",
   "id": "2bdcf525",
   "metadata": {},
   "source": [
    "## Boolean Operators"
   ]
  },
  {
   "cell_type": "code",
   "execution_count": 22,
   "id": "9283619c",
   "metadata": {},
   "outputs": [],
   "source": [
    "x=2"
   ]
  },
  {
   "cell_type": "code",
   "execution_count": 27,
   "id": "a075d649",
   "metadata": {},
   "outputs": [
    {
     "data": {
      "text/plain": [
       "True"
      ]
     },
     "execution_count": 27,
     "metadata": {},
     "output_type": "execute_result"
    }
   ],
   "source": [
    "x==2"
   ]
  },
  {
   "cell_type": "code",
   "execution_count": 28,
   "id": "7a500238",
   "metadata": {},
   "outputs": [
    {
     "ename": "NameError",
     "evalue": "name 'true' is not defined",
     "output_type": "error",
     "traceback": [
      "\u001b[1;31m---------------------------------------------------------------------------\u001b[0m",
      "\u001b[1;31mNameError\u001b[0m                                 Traceback (most recent call last)",
      "\u001b[1;32m<ipython-input-28-6f4d8242c3d0>\u001b[0m in \u001b[0;36m<module>\u001b[1;34m\u001b[0m\n\u001b[1;32m----> 1\u001b[1;33m \u001b[0mtype\u001b[0m\u001b[1;33m(\u001b[0m\u001b[0mtrue\u001b[0m\u001b[1;33m)\u001b[0m\u001b[1;33m\u001b[0m\u001b[1;33m\u001b[0m\u001b[0m\n\u001b[0m",
      "\u001b[1;31mNameError\u001b[0m: name 'true' is not defined"
     ]
    }
   ],
   "source": [
    "type(true)"
   ]
  },
  {
   "cell_type": "code",
   "execution_count": 32,
   "id": "a35d27b7",
   "metadata": {},
   "outputs": [
    {
     "data": {
      "text/plain": [
       "bool"
      ]
     },
     "execution_count": 32,
     "metadata": {},
     "output_type": "execute_result"
    }
   ],
   "source": [
    "type(True)\n",
    "type(False)"
   ]
  },
  {
   "cell_type": "code",
   "execution_count": 36,
   "id": "182ede64",
   "metadata": {},
   "outputs": [
    {
     "ename": "SyntaxError",
     "evalue": "invalid syntax (<ipython-input-36-9d53c68bcf37>, line 1)",
     "output_type": "error",
     "traceback": [
      "\u001b[1;36m  File \u001b[1;32m\"<ipython-input-36-9d53c68bcf37>\"\u001b[1;36m, line \u001b[1;32m1\u001b[0m\n\u001b[1;33m    True = = True\u001b[0m\n\u001b[1;37m           ^\u001b[0m\n\u001b[1;31mSyntaxError\u001b[0m\u001b[1;31m:\u001b[0m invalid syntax\n"
     ]
    }
   ],
   "source": []
  },
  {
   "cell_type": "code",
   "execution_count": 38,
   "id": "a4f6944c",
   "metadata": {},
   "outputs": [
    {
     "data": {
      "text/plain": [
       "True"
      ]
     },
     "execution_count": 38,
     "metadata": {},
     "output_type": "execute_result"
    }
   ],
   "source": [
    "not False"
   ]
  },
  {
   "cell_type": "code",
   "execution_count": 40,
   "id": "0009bdbd",
   "metadata": {},
   "outputs": [
    {
     "name": "stdout",
     "output_type": "stream",
     "text": [
      "False\n",
      "True\n"
     ]
    }
   ],
   "source": [
    "print(True and False)\n",
    "print(True or False)"
   ]
  },
  {
   "cell_type": "code",
   "execution_count": 41,
   "id": "f4b4557c",
   "metadata": {},
   "outputs": [
    {
     "data": {
      "text/plain": [
       "False"
      ]
     },
     "execution_count": 41,
     "metadata": {},
     "output_type": "execute_result"
    }
   ],
   "source": [
    "a = 5\n",
    "b = 3\n",
    "a<b"
   ]
  },
  {
   "cell_type": "code",
   "execution_count": 42,
   "id": "b5655731",
   "metadata": {},
   "outputs": [],
   "source": [
    "# <less than \n",
    "# > greater than \n",
    "# <= less than or equal to\n",
    "# >= greater than o equal to \n",
    "# == equal to\n",
    "# != not equal to"
   ]
  },
  {
   "cell_type": "code",
   "execution_count": 43,
   "id": "f9a101b1",
   "metadata": {},
   "outputs": [
    {
     "data": {
      "text/plain": [
       "(True, False, True, True)"
      ]
     },
     "execution_count": 43,
     "metadata": {},
     "output_type": "execute_result"
    }
   ],
   "source": [
    "2>1, 2<1, 2==2, 2!=3"
   ]
  },
  {
   "cell_type": "code",
   "execution_count": 45,
   "id": "fc68fdf1",
   "metadata": {},
   "outputs": [
    {
     "data": {
      "text/plain": [
       "(True, True)"
      ]
     },
     "execution_count": 45,
     "metadata": {},
     "output_type": "execute_result"
    }
   ],
   "source": [
    "[1,2] == [1,2], [1,2]!= [2,1] "
   ]
  },
  {
   "cell_type": "code",
   "execution_count": 47,
   "id": "bfc0b12f",
   "metadata": {},
   "outputs": [
    {
     "data": {
      "text/plain": [
       "True"
      ]
     },
     "execution_count": 47,
     "metadata": {},
     "output_type": "execute_result"
    }
   ],
   "source": [
    "[1,2] == [1,2] or [2,3]== [2,2]"
   ]
  },
  {
   "cell_type": "markdown",
   "id": "1c779c71",
   "metadata": {},
   "source": [
    "## Strings"
   ]
  },
  {
   "cell_type": "code",
   "execution_count": 57,
   "id": "55e9854e",
   "metadata": {},
   "outputs": [
    {
     "name": "stdout",
     "output_type": "stream",
     "text": [
      "Hello\n"
     ]
    },
    {
     "data": {
      "text/plain": [
       "2"
      ]
     },
     "execution_count": 57,
     "metadata": {},
     "output_type": "execute_result"
    }
   ],
   "source": [
    "s1 = \"Hello, hello TMF, aren't we having such fun\"\n",
    "type(s1)\n",
    "print(\"Hello\")\n",
    "1+1"
   ]
  },
  {
   "cell_type": "code",
   "execution_count": 58,
   "id": "fc24042e",
   "metadata": {},
   "outputs": [
    {
     "data": {
      "text/plain": [
       "43"
      ]
     },
     "execution_count": 58,
     "metadata": {},
     "output_type": "execute_result"
    }
   ],
   "source": [
    "len (s1)"
   ]
  },
  {
   "cell_type": "code",
   "execution_count": 67,
   "id": "7b9b5fbd",
   "metadata": {},
   "outputs": [
    {
     "name": "stdout",
     "output_type": "stream",
     "text": [
      "Hello Test Test!\n"
     ]
    }
   ],
   "source": [
    "s2 = \"Hello World World!\"\n",
    "s3 = s2.replace(\"World\", \"Test\")\n",
    "print(s3)"
   ]
  },
  {
   "cell_type": "markdown",
   "id": "773cf106",
   "metadata": {},
   "source": [
    "## String Indexing"
   ]
  },
  {
   "cell_type": "code",
   "execution_count": 69,
   "id": "e27a8253",
   "metadata": {},
   "outputs": [],
   "source": [
    "s4 = \"Hi, give me a call at 077777777\""
   ]
  },
  {
   "cell_type": "code",
   "execution_count": 78,
   "id": "b5855adc",
   "metadata": {},
   "outputs": [
    {
     "data": {
      "text/plain": [
       "' 077777777'"
      ]
     },
     "execution_count": 78,
     "metadata": {},
     "output_type": "execute_result"
    }
   ],
   "source": [
    "phone_Number= s4[22:] #python ses 0 based indexing!\n",
    "s4[-10:]"
   ]
  },
  {
   "cell_type": "code",
   "execution_count": 74,
   "id": "206aa64b",
   "metadata": {},
   "outputs": [
    {
     "name": "stdout",
     "output_type": "stream",
     "text": [
      "077777777\n"
     ]
    }
   ],
   "source": [
    "print(phone_Number)"
   ]
  },
  {
   "cell_type": "code",
   "execution_count": 80,
   "id": "23383bdc",
   "metadata": {},
   "outputs": [
    {
     "data": {
      "text/plain": [
       "'HloWr'"
      ]
     },
     "execution_count": 80,
     "metadata": {},
     "output_type": "execute_result"
    }
   ],
   "source": [
    "s2[0:10:2] #print first 10 chars by skipping 2nd alphabet"
   ]
  },
  {
   "cell_type": "code",
   "execution_count": 88,
   "id": "e5c23811",
   "metadata": {
    "scrolled": true
   },
   "outputs": [
    {
     "name": "stdout",
     "output_type": "stream",
     "text": [
      "Hello World World!\n"
     ]
    },
    {
     "data": {
      "text/plain": [
       "'HloWrdWrd'"
      ]
     },
     "execution_count": 88,
     "metadata": {},
     "output_type": "execute_result"
    }
   ],
   "source": [
    "print(s2[:])\n",
    "s2[::2]"
   ]
  },
  {
   "cell_type": "markdown",
   "id": "337facc8",
   "metadata": {},
   "source": [
    "## List Index\n"
   ]
  },
  {
   "cell_type": "code",
   "execution_count": 89,
   "id": "e8567c4e",
   "metadata": {},
   "outputs": [
    {
     "data": {
      "text/plain": [
       "[1, 3, 'Hello', 7, 9]"
      ]
     },
     "execution_count": 89,
     "metadata": {},
     "output_type": "execute_result"
    }
   ],
   "source": [
    "l1 = [1,2,3,4,'Hello',6,7,8,9] # list is a series of unordered mutable elements\n",
    "l1[::2]"
   ]
  },
  {
   "cell_type": "code",
   "execution_count": 90,
   "id": "8b8870e1",
   "metadata": {},
   "outputs": [],
   "source": [
    "l2 = [] #creates an empty list"
   ]
  },
  {
   "cell_type": "code",
   "execution_count": 91,
   "id": "1b2f25ae",
   "metadata": {},
   "outputs": [
    {
     "data": {
      "text/plain": [
       "list"
      ]
     },
     "execution_count": 91,
     "metadata": {},
     "output_type": "execute_result"
    }
   ],
   "source": [
    "type(l2)"
   ]
  },
  {
   "cell_type": "code",
   "execution_count": 92,
   "id": "1b30a0d7",
   "metadata": {},
   "outputs": [],
   "source": [
    "# [] is a list\n",
    "# () is a tuple\n",
    "# {} is a dictionary\n",
    "# ''/\"\" indicate a string"
   ]
  },
  {
   "cell_type": "markdown",
   "id": "77b1d8df",
   "metadata": {},
   "source": [
    "## Concatenating"
   ]
  },
  {
   "cell_type": "code",
   "execution_count": 93,
   "id": "76371b74",
   "metadata": {},
   "outputs": [
    {
     "data": {
      "text/plain": [
       "'Hello TMF'"
      ]
     },
     "execution_count": 93,
     "metadata": {},
     "output_type": "execute_result"
    }
   ],
   "source": [
    "s1 = \"Hello \"\n",
    "s2 = \"TMF\"\n",
    "\n",
    "s1+s2"
   ]
  },
  {
   "cell_type": "code",
   "execution_count": 95,
   "id": "622566f5",
   "metadata": {},
   "outputs": [
    {
     "name": "stdout",
     "output_type": "stream",
     "text": [
      "you rolled a 3.\n"
     ]
    }
   ],
   "source": [
    "dice_roll = 3\n",
    "print(\"you rolled a \"+ str(dice_roll) + \".\") # we can't concatenate a string & a integer. Similar to CAST, convertthe data type"
   ]
  },
  {
   "cell_type": "code",
   "execution_count": 96,
   "id": "2ee2bee3",
   "metadata": {},
   "outputs": [
    {
     "data": {
      "text/plain": [
       "32"
      ]
     },
     "execution_count": 96,
     "metadata": {},
     "output_type": "execute_result"
    }
   ],
   "source": [
    "s5 = \"Hello Team! Welcome to TMF Group!\"\n",
    "len(s5)"
   ]
  },
  {
   "cell_type": "code",
   "execution_count": 107,
   "id": "fe88737e",
   "metadata": {},
   "outputs": [
    {
     "ename": "IndentationError",
     "evalue": "expected an indented block (<ipython-input-107-6a65c4d8b52b>, line 7)",
     "output_type": "error",
     "traceback": [
      "\u001b[1;36m  File \u001b[1;32m\"<ipython-input-107-6a65c4d8b52b>\"\u001b[1;36m, line \u001b[1;32m7\u001b[0m\n\u001b[1;33m    if c in vowels:\u001b[0m\n\u001b[1;37m    ^\u001b[0m\n\u001b[1;31mIndentationError\u001b[0m\u001b[1;31m:\u001b[0m expected an indented block\n"
     ]
    }
   ],
   "source": [
    "s6 = \"Are you excited?\"\n",
    "s5+\" \"+s6\n",
    "\n",
    "vowels = [\"a\",\"e\",\"i\",\"o\",\"u\"]\n",
    "\n",
    "for c in s6:\n",
    "if c in vowels:\n",
    "        s6=s6.replace(c, \"vowels\")"
   ]
  },
  {
   "cell_type": "code",
   "execution_count": 105,
   "id": "4c805587",
   "metadata": {},
   "outputs": [
    {
     "ename": "TypeError",
     "evalue": "'str' object cannot be interpreted as an integer",
     "output_type": "error",
     "traceback": [
      "\u001b[1;31m---------------------------------------------------------------------------\u001b[0m",
      "\u001b[1;31mTypeError\u001b[0m                                 Traceback (most recent call last)",
      "\u001b[1;32m<ipython-input-105-3775a79e31e2>\u001b[0m in \u001b[0;36m<module>\u001b[1;34m\u001b[0m\n\u001b[1;32m----> 1\u001b[1;33m \u001b[0ms7\u001b[0m \u001b[1;33m=\u001b[0m \u001b[0ms6\u001b[0m\u001b[1;33m.\u001b[0m\u001b[0mreplace\u001b[0m\u001b[1;33m(\u001b[0m\u001b[1;34m\"a\"\u001b[0m\u001b[1;33m,\u001b[0m \u001b[1;34m\"e\"\u001b[0m\u001b[1;33m,\u001b[0m \u001b[1;34m\"Vowel\"\u001b[0m\u001b[1;33m)\u001b[0m\u001b[1;33m\u001b[0m\u001b[1;33m\u001b[0m\u001b[0m\n\u001b[0m",
      "\u001b[1;31mTypeError\u001b[0m: 'str' object cannot be interpreted as an integer"
     ]
    }
   ],
   "source": [
    "s7 = s6.replace(\"a\", \"e\", \"Vowel\")"
   ]
  },
  {
   "cell_type": "code",
   "execution_count": 108,
   "id": "1a5a51b6",
   "metadata": {},
   "outputs": [
    {
     "ename": "IndentationError",
     "evalue": "expected an indented block (<ipython-input-108-762b4cbc1496>, line 6)",
     "output_type": "error",
     "traceback": [
      "\u001b[1;36m  File \u001b[1;32m\"<ipython-input-108-762b4cbc1496>\"\u001b[1;36m, line \u001b[1;32m6\u001b[0m\n\u001b[1;33m    if c in vowels:\u001b[0m\n\u001b[1;37m    ^\u001b[0m\n\u001b[1;31mIndentationError\u001b[0m\u001b[1;31m:\u001b[0m expected an indented block\n"
     ]
    }
   ],
   "source": [
    "s6 = \"Are you excited?\"\n",
    "\n",
    "vowels = [\"a\",\"e\",\"i\",\"o\",\"u\"]\n",
    "\n",
    "for c in s6:\n",
    "if c in vowels:\n",
    "        s6=s6.replace(c, \"vowels\")"
   ]
  },
  {
   "cell_type": "code",
   "execution_count": 109,
   "id": "cd5524f2",
   "metadata": {},
   "outputs": [
    {
     "name": "stdout",
     "output_type": "stream",
     "text": [
      "<class 'list'>\n"
     ]
    }
   ],
   "source": [
    "l3 = [1,2,3,4]\n",
    "print(type(l3))"
   ]
  },
  {
   "cell_type": "code",
   "execution_count": 110,
   "id": "42e4e13c",
   "metadata": {},
   "outputs": [
    {
     "name": "stdout",
     "output_type": "stream",
     "text": [
      "['Joe', 'Sally']\n"
     ]
    }
   ],
   "source": [
    "names = [\"Joe\", \"Sally\"]\n",
    "print(names)\n"
   ]
  },
  {
   "cell_type": "code",
   "execution_count": 111,
   "id": "7712dcbe",
   "metadata": {},
   "outputs": [],
   "source": [
    "# methods are called with .replace()\n",
    "# a new method called .append()\n"
   ]
  },
  {
   "cell_type": "code",
   "execution_count": 114,
   "id": "1b04c21d",
   "metadata": {},
   "outputs": [
    {
     "name": "stdout",
     "output_type": "stream",
     "text": [
      "['Joe', 'Sally', 'Camila', 'Camila', 'Camila']\n"
     ]
    }
   ],
   "source": [
    "names.append ('Camila')\n",
    "print(names)"
   ]
  },
  {
   "cell_type": "code",
   "execution_count": 117,
   "id": "44323024",
   "metadata": {},
   "outputs": [],
   "source": [
    "names.remove('Camila')"
   ]
  },
  {
   "cell_type": "code",
   "execution_count": 118,
   "id": "c0ae3351",
   "metadata": {},
   "outputs": [
    {
     "data": {
      "text/plain": [
       "['Joe', 'Sally']"
      ]
     },
     "execution_count": 118,
     "metadata": {},
     "output_type": "execute_result"
    }
   ],
   "source": [
    "names\n"
   ]
  },
  {
   "cell_type": "code",
   "execution_count": 119,
   "id": "0c19c9e7",
   "metadata": {},
   "outputs": [
    {
     "name": "stdout",
     "output_type": "stream",
     "text": [
      "['Sally']\n"
     ]
    }
   ],
   "source": [
    "print(names[1:3])"
   ]
  },
  {
   "cell_type": "code",
   "execution_count": 120,
   "id": "28bda28c",
   "metadata": {},
   "outputs": [
    {
     "data": {
      "text/plain": [
       "'ally'"
      ]
     },
     "execution_count": 120,
     "metadata": {},
     "output_type": "execute_result"
    }
   ],
   "source": [
    "names[1][1:]"
   ]
  },
  {
   "cell_type": "code",
   "execution_count": 121,
   "id": "d8bce0c6",
   "metadata": {},
   "outputs": [],
   "source": [
    "allsorts = [1, 'a', 1.0, 1-1j]\n"
   ]
  },
  {
   "cell_type": "code",
   "execution_count": 122,
   "id": "9486f726",
   "metadata": {},
   "outputs": [
    {
     "data": {
      "text/plain": [
       "[1, 'a', 1.0, (1-1j)]"
      ]
     },
     "execution_count": 122,
     "metadata": {},
     "output_type": "execute_result"
    }
   ],
   "source": [
    "allsorts"
   ]
  },
  {
   "cell_type": "code",
   "execution_count": 130,
   "id": "17efd896",
   "metadata": {},
   "outputs": [
    {
     "name": "stdout",
     "output_type": "stream",
     "text": [
      "<class 'range'>\n",
      "[10, 12, 14, 16, 18, 20, 22, 24, 26, 28]\n",
      "[10, 12, 14, 16, 18, 20, 22, 24, 26, 28]\n"
     ]
    },
    {
     "data": {
      "text/plain": [
       "True"
      ]
     },
     "execution_count": 130,
     "metadata": {},
     "output_type": "execute_result"
    }
   ],
   "source": [
    "start = 10\n",
    "stop = 30\n",
    "step = 2\n",
    "\n",
    "print(type(range(start, stop, step)))\n",
    "\n",
    "l5 = list (range(start, stop, step))\n",
    "l6 = list(range(10,30,2))\n",
    "print(l5)\n",
    "print(l6)\n",
    "l6 == l5"
   ]
  },
  {
   "cell_type": "code",
   "execution_count": 131,
   "id": "98d8bfc7",
   "metadata": {},
   "outputs": [
    {
     "data": {
      "text/plain": [
       "['Joe', 'Sally']"
      ]
     },
     "execution_count": 131,
     "metadata": {},
     "output_type": "execute_result"
    }
   ],
   "source": [
    "names"
   ]
  },
  {
   "cell_type": "code",
   "execution_count": 138,
   "id": "8bdb6175",
   "metadata": {},
   "outputs": [],
   "source": [
    "names.insert(2,'Daniel')"
   ]
  },
  {
   "cell_type": "code",
   "execution_count": 146,
   "id": "e703dc05",
   "metadata": {},
   "outputs": [],
   "source": [
    "names.remove('Daniel')"
   ]
  },
  {
   "cell_type": "code",
   "execution_count": 147,
   "id": "993c90b3",
   "metadata": {},
   "outputs": [
    {
     "data": {
      "text/plain": [
       "['Joe', 'Sally', 'Daniel']"
      ]
     },
     "execution_count": 147,
     "metadata": {},
     "output_type": "execute_result"
    }
   ],
   "source": [
    "names"
   ]
  },
  {
   "cell_type": "code",
   "execution_count": 148,
   "id": "f166be26",
   "metadata": {},
   "outputs": [],
   "source": [
    "names.insert(3,'Natalie')"
   ]
  },
  {
   "cell_type": "code",
   "execution_count": 150,
   "id": "5c83b48a",
   "metadata": {},
   "outputs": [
    {
     "data": {
      "text/plain": [
       "['Joe', 'Sally', 'Daniel', 'Natalie']"
      ]
     },
     "execution_count": 150,
     "metadata": {},
     "output_type": "execute_result"
    }
   ],
   "source": [
    "names"
   ]
  },
  {
   "cell_type": "code",
   "execution_count": 153,
   "id": "fc71fc2d",
   "metadata": {},
   "outputs": [
    {
     "data": {
      "text/plain": [
       "[65, 'hello', 'world']"
      ]
     },
     "execution_count": 153,
     "metadata": {},
     "output_type": "execute_result"
    }
   ],
   "source": [
    "p = [1,45,65,'hello', 'world']\n",
    "p[-3:]"
   ]
  },
  {
   "cell_type": "code",
   "execution_count": 158,
   "id": "0850cc85",
   "metadata": {},
   "outputs": [],
   "source": [
    "p.insert(2, 'Hi')"
   ]
  },
  {
   "cell_type": "code",
   "execution_count": 165,
   "id": "3073cf28",
   "metadata": {},
   "outputs": [
    {
     "ename": "ValueError",
     "evalue": "list.remove(x): x not in list",
     "output_type": "error",
     "traceback": [
      "\u001b[1;31m---------------------------------------------------------------------------\u001b[0m",
      "\u001b[1;31mValueError\u001b[0m                                Traceback (most recent call last)",
      "\u001b[1;32m<ipython-input-165-3c340907cadf>\u001b[0m in \u001b[0;36m<module>\u001b[1;34m\u001b[0m\n\u001b[1;32m----> 1\u001b[1;33m \u001b[0mp\u001b[0m\u001b[1;33m.\u001b[0m\u001b[0mremove\u001b[0m \u001b[1;33m(\u001b[0m\u001b[1;33m[\u001b[0m\u001b[1;34m'Hi'\u001b[0m\u001b[1;33m,\u001b[0m\u001b[1;36m22\u001b[0m\u001b[1;33m]\u001b[0m\u001b[1;33m)\u001b[0m\u001b[1;33m\u001b[0m\u001b[1;33m\u001b[0m\u001b[0m\n\u001b[0m",
      "\u001b[1;31mValueError\u001b[0m: list.remove(x): x not in list"
     ]
    }
   ],
   "source": [
    "p.remove (['Hi',22])"
   ]
  },
  {
   "cell_type": "code",
   "execution_count": 166,
   "id": "6bd33a30",
   "metadata": {},
   "outputs": [
    {
     "data": {
      "text/plain": [
       "[1, 45, 'Hi', 'Hi', 65, 'hello', 'world']"
      ]
     },
     "execution_count": 166,
     "metadata": {},
     "output_type": "execute_result"
    }
   ],
   "source": [
    "p"
   ]
  },
  {
   "cell_type": "markdown",
   "id": "670df9c1",
   "metadata": {},
   "source": [
    "## Tuples"
   ]
  },
  {
   "cell_type": "code",
   "execution_count": 167,
   "id": "27f4b761",
   "metadata": {},
   "outputs": [],
   "source": [
    "my_house = (\"head\", \"Couches\", \"Churn\")"
   ]
  },
  {
   "cell_type": "code",
   "execution_count": 168,
   "id": "2df1b774",
   "metadata": {},
   "outputs": [
    {
     "data": {
      "text/plain": [
       "tuple"
      ]
     },
     "execution_count": 168,
     "metadata": {},
     "output_type": "execute_result"
    }
   ],
   "source": [
    "type(my_house)"
   ]
  },
  {
   "cell_type": "code",
   "execution_count": 169,
   "id": "83d4f9c9",
   "metadata": {},
   "outputs": [
    {
     "data": {
      "text/plain": [
       "'Couches'"
      ]
     },
     "execution_count": 169,
     "metadata": {},
     "output_type": "execute_result"
    }
   ],
   "source": [
    "my_house [1]"
   ]
  },
  {
   "cell_type": "markdown",
   "id": "b7f176b1",
   "metadata": {},
   "source": [
    "## Dictionaries"
   ]
  },
  {
   "cell_type": "code",
   "execution_count": 174,
   "id": "4c9b4d68",
   "metadata": {},
   "outputs": [],
   "source": [
    "params = {'key1':1.0,\n",
    "         'key2': 2.0,\n",
    "         'Key3': 3.0}"
   ]
  },
  {
   "cell_type": "code",
   "execution_count": 171,
   "id": "d8673d2c",
   "metadata": {},
   "outputs": [
    {
     "name": "stdout",
     "output_type": "stream",
     "text": [
      "<class 'dict'>\n"
     ]
    }
   ],
   "source": [
    "print(type(params))"
   ]
  },
  {
   "cell_type": "code",
   "execution_count": 175,
   "id": "5d5d4b73",
   "metadata": {},
   "outputs": [
    {
     "name": "stdout",
     "output_type": "stream",
     "text": [
      "{'key1': 1.0, 'key2': 2.0, 'Key3': 3.0}\n"
     ]
    }
   ],
   "source": [
    "print(params)"
   ]
  },
  {
   "cell_type": "code",
   "execution_count": 176,
   "id": "b143c9ad",
   "metadata": {},
   "outputs": [
    {
     "data": {
      "text/plain": [
       "2.0"
      ]
     },
     "execution_count": 176,
     "metadata": {},
     "output_type": "execute_result"
    }
   ],
   "source": [
    "params['key2']"
   ]
  },
  {
   "cell_type": "code",
   "execution_count": 177,
   "id": "0db3e2d7",
   "metadata": {},
   "outputs": [],
   "source": [
    "params['key1']= 'A'"
   ]
  },
  {
   "cell_type": "code",
   "execution_count": 178,
   "id": "8ccd2ee2",
   "metadata": {},
   "outputs": [
    {
     "data": {
      "text/plain": [
       "{'key1': 'A', 'key2': 2.0, 'Key3': 3.0}"
      ]
     },
     "execution_count": 178,
     "metadata": {},
     "output_type": "execute_result"
    }
   ],
   "source": [
    "params\n"
   ]
  },
  {
   "cell_type": "code",
   "execution_count": 180,
   "id": "acbb2d63",
   "metadata": {},
   "outputs": [],
   "source": [
    "variable_2 = params.items()"
   ]
  },
  {
   "cell_type": "code",
   "execution_count": 183,
   "id": "6bd0fd24",
   "metadata": {},
   "outputs": [],
   "source": [
    "variable_2 = list(params.items()) #convert the keyvalue element into a tuple & then into a list"
   ]
  },
  {
   "cell_type": "code",
   "execution_count": 184,
   "id": "ebfd7832",
   "metadata": {},
   "outputs": [
    {
     "data": {
      "text/plain": [
       "[('key1', 'A'), ('key2', 2.0), ('Key3', 3.0)]"
      ]
     },
     "execution_count": 184,
     "metadata": {},
     "output_type": "execute_result"
    }
   ],
   "source": [
    "variable_2"
   ]
  },
  {
   "cell_type": "markdown",
   "id": "dc5d0cf6",
   "metadata": {},
   "source": [
    "## Functions and Control Flow"
   ]
  },
  {
   "cell_type": "markdown",
   "id": "9e118f02",
   "metadata": {},
   "source": [
    "### if and else statements"
   ]
  },
  {
   "cell_type": "code",
   "execution_count": 2,
   "id": "2a422756",
   "metadata": {},
   "outputs": [],
   "source": [
    "if 1 == 2:\n",
    "    print('1 is equal to 1')"
   ]
  },
  {
   "cell_type": "code",
   "execution_count": 5,
   "id": "80b8d774",
   "metadata": {},
   "outputs": [
    {
     "name": "stdout",
     "output_type": "stream",
     "text": [
      "---------------------\n",
      "these two lines are not indented so they will always run\n"
     ]
    }
   ],
   "source": [
    "if 'one' == 'two':\n",
    "    print(\"The string 'one' is equal to the string 'two'\")\n",
    "    \n",
    "print('---------------------')\n",
    "print('these two lines are not indented so they will always run')"
   ]
  },
  {
   "cell_type": "code",
   "execution_count": 7,
   "id": "a1e57ea2",
   "metadata": {},
   "outputs": [
    {
     "name": "stdout",
     "output_type": "stream",
     "text": [
      "50 is greater than 30\n"
     ]
    }
   ],
   "source": [
    "if 50 < 30:\n",
    "    print(\"50<30\")\n",
    "else:\n",
    "    print(\"50 is greater than 30\")\n"
   ]
  },
  {
   "cell_type": "code",
   "execution_count": 11,
   "id": "bf8561ac",
   "metadata": {},
   "outputs": [
    {
     "name": "stdout",
     "output_type": "stream",
     "text": [
      "Come and see me about your health score\n"
     ]
    }
   ],
   "source": [
    "health = 0\n",
    "if health >70:\n",
    "    print('You are in great health! Well Done')\n",
    "elif health >40:  #short for else if\n",
    "        print('Your results are okay. Maybe book a checkup ')\n",
    "elif health > 30:\n",
    "        print('You really need a checkup. Book one for tomorrow')\n",
    "elif    health>0:\n",
    "        print('Go to hospital. Now!')\n",
    "    \n",
    "else:\n",
    "    print('Come and see me about your health score')"
   ]
  },
  {
   "cell_type": "markdown",
   "id": "8f3f3bde",
   "metadata": {},
   "source": [
    "## For loops"
   ]
  },
  {
   "cell_type": "code",
   "execution_count": 14,
   "id": "247b7206",
   "metadata": {},
   "outputs": [
    {
     "name": "stdout",
     "output_type": "stream",
     "text": [
      "Sally is awesome\n",
      "Rob is awesome\n",
      "Joe is awesome\n",
      "Camila is awesome\n",
      "Natalie is awesome\n",
      "Daniel is awesome\n",
      "Daniel is awesome\n"
     ]
    }
   ],
   "source": [
    "names = ['Sally', 'Rob', 'Joe', 'Camila', 'Natalie', 'Daniel']\n",
    "\n",
    "for element in names:\n",
    "    print(element + ' is awesome')\n",
    "print(element + ' is awesome')"
   ]
  },
  {
   "cell_type": "code",
   "execution_count": 17,
   "id": "9e95f6da",
   "metadata": {},
   "outputs": [
    {
     "name": "stdout",
     "output_type": "stream",
     "text": [
      "Sally is awesome\n",
      "Rob is awesome\n",
      "Joe is awesome\n",
      "Camila is really awesome\n",
      "Natalie is awesome\n",
      "Daniel is awesome\n"
     ]
    }
   ],
   "source": [
    "for name in names:\n",
    "    if name == 'Camila':\n",
    "        print(name + ' is really awesome')\n",
    "        \n",
    "    else:\n",
    "        print(name + ' is awesome')\n",
    "    "
   ]
  },
  {
   "cell_type": "code",
   "execution_count": 20,
   "id": "7d1a2f3b",
   "metadata": {},
   "outputs": [
    {
     "name": "stdout",
     "output_type": "stream",
     "text": [
      "python is a programming language\n",
      "anaconda is a software to run python scripts\n",
      "jupyter is a terminal to run python scripts\n",
      "method is a method associated with an object\n"
     ]
    }
   ],
   "source": [
    "datacamp = ['python','anaconda','jupyter','method']\n",
    "for n in datacamp:\n",
    "    if n == 'python':\n",
    "        print(n + ' is a programming language')\n",
    "    elif n == 'anaconda':\n",
    "        print(n + ' is a software to run python scripts')\n",
    "        \n",
    "    elif n == 'jupyter':\n",
    "        print (n + ' is a terminal to run python scripts')\n",
    "    else:\n",
    "        print (n + ' is a method associated with an object')"
   ]
  },
  {
   "cell_type": "markdown",
   "id": "502f3439",
   "metadata": {},
   "source": [
    "## try and except\n"
   ]
  },
  {
   "cell_type": "code",
   "execution_count": 21,
   "id": "22ab45e2",
   "metadata": {},
   "outputs": [
    {
     "ename": "ZeroDivisionError",
     "evalue": "division by zero",
     "output_type": "error",
     "traceback": [
      "\u001b[1;31m---------------------------------------------------------------------------\u001b[0m",
      "\u001b[1;31mZeroDivisionError\u001b[0m                         Traceback (most recent call last)",
      "\u001b[1;32m<ipython-input-21-9e1622b385b6>\u001b[0m in \u001b[0;36m<module>\u001b[1;34m\u001b[0m\n\u001b[1;32m----> 1\u001b[1;33m \u001b[1;36m1\u001b[0m\u001b[1;33m/\u001b[0m\u001b[1;36m0\u001b[0m\u001b[1;33m\u001b[0m\u001b[1;33m\u001b[0m\u001b[0m\n\u001b[0m",
      "\u001b[1;31mZeroDivisionError\u001b[0m: division by zero"
     ]
    }
   ],
   "source": [
    "1/0"
   ]
  },
  {
   "cell_type": "code",
   "execution_count": 22,
   "id": "447bbda5",
   "metadata": {},
   "outputs": [
    {
     "ename": "TypeError",
     "evalue": "unsupported operand type(s) for -: 'str' and 'str'",
     "output_type": "error",
     "traceback": [
      "\u001b[1;31m---------------------------------------------------------------------------\u001b[0m",
      "\u001b[1;31mTypeError\u001b[0m                                 Traceback (most recent call last)",
      "\u001b[1;32m<ipython-input-22-ac492c7cb006>\u001b[0m in \u001b[0;36m<module>\u001b[1;34m\u001b[0m\n\u001b[1;32m----> 1\u001b[1;33m \u001b[0mprint\u001b[0m \u001b[1;33m(\u001b[0m\u001b[1;34m'a'\u001b[0m \u001b[1;33m-\u001b[0m \u001b[1;34m'b'\u001b[0m\u001b[1;33m)\u001b[0m\u001b[1;33m\u001b[0m\u001b[1;33m\u001b[0m\u001b[0m\n\u001b[0m",
      "\u001b[1;31mTypeError\u001b[0m: unsupported operand type(s) for -: 'str' and 'str'"
     ]
    }
   ],
   "source": [
    "print ('a' - 'b')"
   ]
  },
  {
   "cell_type": "code",
   "execution_count": 23,
   "id": "db751935",
   "metadata": {},
   "outputs": [
    {
     "name": "stdout",
     "output_type": "stream",
     "text": [
      "1.0\n",
      "0.5\n",
      "0.3333333333333333\n",
      "cannot divide by 0\n"
     ]
    }
   ],
   "source": [
    "a =[1,2,3,0]\n",
    "\n",
    "for num in a:\n",
    "    try:\n",
    "        print(1/num)\n",
    "    except: #catch errors and do something \n",
    "        print('cannot divide by 0')"
   ]
  },
  {
   "cell_type": "code",
   "execution_count": 25,
   "id": "406839ae",
   "metadata": {},
   "outputs": [
    {
     "data": {
      "text/plain": [
       "[23.1, 1000.0]"
      ]
     },
     "execution_count": 25,
     "metadata": {},
     "output_type": "execute_result"
    }
   ],
   "source": [
    "corrupted = ['!1', '23.1', '??12', '1000']\n",
    "\n",
    "new_list = []\n",
    "\n",
    "for num in corrupted:\n",
    "    try:\n",
    "        new_list.append(float(num))\n",
    "        \n",
    "    except:\n",
    "        pass\n",
    "new_list"
   ]
  },
  {
   "cell_type": "code",
   "execution_count": 26,
   "id": "06443e72",
   "metadata": {},
   "outputs": [],
   "source": [
    "#converting between datatypes\n",
    "\n",
    "\n",
    "#str()\n",
    "#float()\n",
    "#list()\n",
    "#dict()\n",
    "#bool()"
   ]
  },
  {
   "cell_type": "markdown",
   "id": "ea720eca",
   "metadata": {},
   "source": [
    "## while loops"
   ]
  },
  {
   "cell_type": "code",
   "execution_count": 27,
   "id": "80f81f75",
   "metadata": {},
   "outputs": [
    {
     "name": "stdout",
     "output_type": "stream",
     "text": [
      "hello\n",
      "hello\n",
      "hello\n",
      "hello\n",
      "hello\n",
      "hello\n",
      "hello\n",
      "hello\n",
      "hello\n",
      "hello\n"
     ]
    }
   ],
   "source": [
    "x = 20\n",
    "while x > 10:\n",
    "    print('hello')\n",
    "    x -= 1"
   ]
  },
  {
   "cell_type": "code",
   "execution_count": 28,
   "id": "2a3879f4",
   "metadata": {},
   "outputs": [
    {
     "name": "stdout",
     "output_type": "stream",
     "text": [
      "0\n",
      "1\n",
      "2\n",
      "3\n",
      "4\n",
      "5\n",
      "6\n",
      "7\n",
      "8\n",
      "9\n"
     ]
    }
   ],
   "source": [
    "x = 0\n",
    "while x < 10:\n",
    "    print(x)\n",
    "    x=x+1\n"
   ]
  },
  {
   "cell_type": "code",
   "execution_count": 29,
   "id": "70e4f014",
   "metadata": {},
   "outputs": [
    {
     "name": "stdout",
     "output_type": "stream",
     "text": [
      "Please enter a passwordSue\n",
      "Wrong password\n",
      "Please enter a passwordpassword\n",
      "Success\n"
     ]
    }
   ],
   "source": [
    "status = True\n",
    "password = 'password'\n",
    "x=0\n",
    "while status is True and x<3:\n",
    "    try:\n",
    "        num = input('Please enter a password')\n",
    "        if num == password:\n",
    "            print('Success')\n",
    "            status = False\n",
    "        else:\n",
    "            print ('Wrong password')\n",
    "    except:\n",
    "        print ( 'WRONG PW')\n",
    "        x-=1\n"
   ]
  },
  {
   "cell_type": "markdown",
   "id": "2d393a49",
   "metadata": {},
   "source": [
    "## functions"
   ]
  },
  {
   "cell_type": "code",
   "execution_count": 30,
   "id": "8586a716",
   "metadata": {},
   "outputs": [
    {
     "data": {
      "text/plain": [
       "4"
      ]
     },
     "execution_count": 30,
     "metadata": {},
     "output_type": "execute_result"
    }
   ],
   "source": [
    "def function_1(x):\n",
    "    return x**2\n",
    "function_1(2)\n"
   ]
  },
  {
   "cell_type": "code",
   "execution_count": 32,
   "id": "62c420dc",
   "metadata": {},
   "outputs": [
    {
     "name": "stdout",
     "output_type": "stream",
     "text": [
      "7\n",
      "-5\n"
     ]
    }
   ],
   "source": [
    "def arithmetic(n1,n2):\n",
    "    print(n1+n2)\n",
    "    print(n1-n2)\n",
    "arithmetic(1,6)"
   ]
  },
  {
   "cell_type": "code",
   "execution_count": 33,
   "id": "f4aee6d3",
   "metadata": {},
   "outputs": [
    {
     "data": {
      "text/plain": [
       "12.56"
      ]
     },
     "execution_count": 33,
     "metadata": {},
     "output_type": "execute_result"
    }
   ],
   "source": [
    "round(12.563785, 2)"
   ]
  },
  {
   "cell_type": "code",
   "execution_count": 35,
   "id": "786af669",
   "metadata": {},
   "outputs": [
    {
     "name": "stdout",
     "output_type": "stream",
     "text": [
      "30\n"
     ]
    }
   ],
   "source": [
    "#write a fuc that squares a numb and adds 5\n",
    "\n",
    "def square_5(x):\n",
    "    print(x*x+5)\n",
    "\n",
    "square_5(5)\n",
    "    "
   ]
  },
  {
   "cell_type": "code",
   "execution_count": 43,
   "id": "735a7eeb",
   "metadata": {},
   "outputs": [],
   "source": [
    "#write a func that takes a word & returns a vowel\n",
    "\n",
    "def vowel_count(word):\n",
    "    count = 0\n",
    "    for letter in word:\n",
    "        if letter in 'aeiou':\n",
    "            count +=1\n",
    "    print(count)\n",
    "    #if vowel is in word we want to add that to count\n",
    "    "
   ]
  },
  {
   "cell_type": "code",
   "execution_count": 44,
   "id": "323aa952",
   "metadata": {},
   "outputs": [
    {
     "name": "stdout",
     "output_type": "stream",
     "text": [
      "2\n"
     ]
    }
   ],
   "source": [
    "vowel_count ('hello')"
   ]
  },
  {
   "cell_type": "code",
   "execution_count": 45,
   "id": "bb0d773b",
   "metadata": {},
   "outputs": [],
   "source": [
    "\n",
    "def vowel_count(word):\n",
    "    count = 0\n",
    "    for letter in word:\n",
    "        if letter in 'aeiou':\n",
    "            count +=1\n",
    "    print('The number of vowels in WORD count is COUNT')\n",
    "    #if vowel is in word we want to add that to count"
   ]
  },
  {
   "cell_type": "code",
   "execution_count": 46,
   "id": "d55e1e5d",
   "metadata": {},
   "outputs": [
    {
     "name": "stdout",
     "output_type": "stream",
     "text": [
      "The number of vowels in WORD count is COUNT\n"
     ]
    }
   ],
   "source": [
    "vowel_count('hello')"
   ]
  },
  {
   "cell_type": "code",
   "execution_count": 48,
   "id": "9d03dcd4",
   "metadata": {},
   "outputs": [
    {
     "name": "stdout",
     "output_type": "stream",
     "text": [
      "The number of vowels in hello is 2\n"
     ]
    }
   ],
   "source": [
    "\n",
    "def vowel_count(word):\n",
    "    count = 0\n",
    "    for letter in word:\n",
    "        if letter in 'aeiou':\n",
    "            count +=1\n",
    "    print('The number of vowels in {} is {}' .format(word, count))\n",
    "    #if vowel is in word we want to add that to count\n",
    "          \n",
    "vowel_count('hello')"
   ]
  },
  {
   "cell_type": "code",
   "execution_count": 55,
   "id": "8ade89f0",
   "metadata": {},
   "outputs": [
    {
     "name": "stdout",
     "output_type": "stream",
     "text": [
      "list of sales in pounds:[300, 400, 500, 600, 120, 340]\n",
      "list of sales in dollars:[375.0, 500.0, 625.0, 750.0, 150.0, 425.0]\n"
     ]
    }
   ],
   "source": [
    "sales_pounds = [300,400,500,600, 120, 340]\n",
    "sales_dollars = []\n",
    "\n",
    "for sale in sales_pounds:\n",
    "    new_sale = sale * 1.25\n",
    "    \n",
    "    sales_dollars.append(new_sale)\n",
    "print('list of sales in pounds:' +str(sales_pounds))\n",
    "print('list of sales in dollars:' +str(sales_dollars))"
   ]
  },
  {
   "cell_type": "markdown",
   "id": "becc95d7",
   "metadata": {},
   "source": [
    "## List Comprehensions"
   ]
  },
  {
   "cell_type": "code",
   "execution_count": 52,
   "id": "778edfcb",
   "metadata": {},
   "outputs": [
    {
     "name": "stdout",
     "output_type": "stream",
     "text": [
      "list of sales in dolars:[375.0, 500.0, 625.0, 750.0, 150.0, 425.0]\n"
     ]
    }
   ],
   "source": [
    "sales_dol = [sale *1.25 for sale in sales_pounds] #need existing list for this to work\n",
    "print('list of sales in dolars:' +str(sales_dol))"
   ]
  },
  {
   "cell_type": "code",
   "execution_count": 53,
   "id": "0cca3dce",
   "metadata": {},
   "outputs": [
    {
     "data": {
      "text/plain": [
       "[375.0, 500.0, 625.0, 750.0, 138.0, 425.0]"
      ]
     },
     "execution_count": 53,
     "metadata": {},
     "output_type": "execute_result"
    }
   ],
   "source": [
    "conditional_sale = [sale *1.25 if sale > 150 else sale *1.15 for sale in sales_pounds]\n",
    "conditional_sale"
   ]
  },
  {
   "cell_type": "markdown",
   "id": "3bab7057",
   "metadata": {},
   "source": [
    "## Group Function Activity"
   ]
  },
  {
   "cell_type": "code",
   "execution_count": 7,
   "id": "91a9f3ae",
   "metadata": {},
   "outputs": [],
   "source": [
    "sentence = 'A man knocked on my door and asked for a small donation towards the local swimming pool so I decided to '\n",
    "#print no of iterations\n",
    "#sentence until you have tallied 1M"
   ]
  },
  {
   "cell_type": "code",
   "execution_count": 8,
   "id": "66744c2f",
   "metadata": {},
   "outputs": [
    {
     "name": "stdout",
     "output_type": "stream",
     "text": [
      "iterations: 3334\n",
      "Vowels:100020\n"
     ]
    }
   ],
   "source": [
    "vowel_count = 0\n",
    "iteration_count = 0\n",
    "\n",
    "while True:\n",
    "    iteration_count +=1\n",
    "    for character in sentence:\n",
    "        if character in 'a' 'e' 'i' 'o' 'u':\n",
    "            vowel_count +=1\n",
    "    if vowel_count >= 100000:\n",
    "        break \n",
    "        \n",
    "print('iterations: {}'.format(iteration_count))\n",
    "print('Vowels:{}'.format(vowel_count))"
   ]
  },
  {
   "cell_type": "code",
   "execution_count": 9,
   "id": "a521296d",
   "metadata": {},
   "outputs": [
    {
     "data": {
      "text/plain": [
       "'C:\\\\Users\\\\Surlli01\\\\OneDrive - TMF Group\\\\Desktop\\\\Surabhi\\\\Data Bootcamp - Python\\\\df_programming_basics-main\\\\df_programming_basics-main\\\\python-foundations'"
      ]
     },
     "execution_count": 9,
     "metadata": {},
     "output_type": "execute_result"
    }
   ],
   "source": [
    "pwd\n"
   ]
  },
  {
   "cell_type": "markdown",
   "id": "d3387e2f",
   "metadata": {},
   "source": [
    "##  Working through a dataset with all our commands"
   ]
  },
  {
   "cell_type": "code",
   "execution_count": 46,
   "id": "e0d43585",
   "metadata": {},
   "outputs": [],
   "source": [
    "with open ('coffee-preferences.csv', 'r') as f:\n",
    "    lines = f.readlines() "
   ]
  },
  {
   "cell_type": "code",
   "execution_count": 12,
   "id": "6b0852b2",
   "metadata": {},
   "outputs": [
    {
     "data": {
      "text/plain": [
       "list"
      ]
     },
     "execution_count": 12,
     "metadata": {},
     "output_type": "execute_result"
    }
   ],
   "source": [
    "type(lines)"
   ]
  },
  {
   "cell_type": "code",
   "execution_count": 47,
   "id": "57c3d5a4",
   "metadata": {},
   "outputs": [
    {
     "name": "stdout",
     "output_type": "stream",
     "text": [
      "Timestamp,Name,Starbucks,PhilzCoffee,BlueBottleCoffee,PeetsTea,CaffeTrieste,GrandCoffee,RitualCoffee,FourBarrel,WorkshopCafe\n",
      "\n",
      "3/17/2015 18:37:58,Alison,3,5,4,3,,,5,5,\n",
      "\n",
      "3/17/2015 18:38:09,April,4,5,5,3,,,3,,5\n",
      "\n",
      "3/17/2015 18:38:25,Vijay,3,5,5,5,3,2,1,1,1\n",
      "\n",
      "3/17/2015 18:38:28,Vanessa,1,5,5,2,,,3,2,3\n",
      "\n",
      "3/17/2015 18:38:46,Isabel,1,4,4,2,4,,4,4,\n",
      "\n",
      "3/17/2015 18:39:01,India,5,3,3,3,3,1,,,3\n",
      "\n",
      "3/17/2015 18:39:01,Dave H,4,5,,5,,,,,\n",
      "\n",
      "3/17/2015 18:39:05,Deepthi,3,5,,2,,,,,2\n",
      "\n",
      "3/17/2015 18:39:14,Ramesh,3,4,,3,,,,,4\n",
      "\n",
      "3/17/2015 18:39:23,Hugh,1,5,5,4,5,2,5,4,1\n",
      "\n",
      "3/17/2015 18:39:23,Alex,4,5,,3,,,,,\n",
      "\n",
      "3/17/2015 18:39:30,Ajay Anand,3,4,4,3,5,,,,\n",
      "\n",
      "3/17/2015 18:39:35,David Feng,2,3,4,2,2,,5,4,3\n",
      "\n",
      "3/17/2015 18:39:42,Zach,3,4,4,3,,,,,5\n",
      "\n",
      "3/17/2015 18:40:44,Matt,3,5,4,3,2,2,4,3,2\n",
      "\n",
      "3/17/2015 18:40:49,Markus,3,5,,3,,,4,,\n",
      "\n",
      "3/17/2015 18:41:18,Otto,4,2,2,5,,,3,3,3\n",
      "\n",
      "3/17/2015 18:41:23,Alessandro,1,5,3,2,,,4,3,\n",
      "\n",
      "3/17/2015 18:41:35,Rocky,3,5,4,3,3,3,4,4,3\n",
      "\n",
      "3/17/2015 18:42:01,Cheong-tseng,3,1,,,,,4,,\n"
     ]
    }
   ],
   "source": [
    "for l in lines:\n",
    "    print(l)"
   ]
  },
  {
   "cell_type": "code",
   "execution_count": 48,
   "id": "b4dc763e",
   "metadata": {},
   "outputs": [
    {
     "data": {
      "text/plain": [
       "['Timestamp,Name,Starbucks,PhilzCoffee,BlueBottleCoffee,PeetsTea,CaffeTrieste,GrandCoffee,RitualCoffee,FourBarrel,WorkshopCafe',\n",
       " '3/17/2015 18:37:58,Alison,3,5,4,3,,,5,5,',\n",
       " '3/17/2015 18:38:09,April,4,5,5,3,,,3,,5',\n",
       " '3/17/2015 18:38:25,Vijay,3,5,5,5,3,2,1,1,1',\n",
       " '3/17/2015 18:38:28,Vanessa,1,5,5,2,,,3,2,3',\n",
       " '3/17/2015 18:38:46,Isabel,1,4,4,2,4,,4,4,',\n",
       " '3/17/2015 18:39:01,India,5,3,3,3,3,1,,,3',\n",
       " '3/17/2015 18:39:01,Dave H,4,5,,5,,,,,',\n",
       " '3/17/2015 18:39:05,Deepthi,3,5,,2,,,,,2',\n",
       " '3/17/2015 18:39:14,Ramesh,3,4,,3,,,,,4',\n",
       " '3/17/2015 18:39:23,Hugh,1,5,5,4,5,2,5,4,1',\n",
       " '3/17/2015 18:39:23,Alex,4,5,,3,,,,,',\n",
       " '3/17/2015 18:39:30,Ajay Anand,3,4,4,3,5,,,,',\n",
       " '3/17/2015 18:39:35,David Feng,2,3,4,2,2,,5,4,3',\n",
       " '3/17/2015 18:39:42,Zach,3,4,4,3,,,,,5',\n",
       " '3/17/2015 18:40:44,Matt,3,5,4,3,2,2,4,3,2',\n",
       " '3/17/2015 18:40:49,Markus,3,5,,3,,,4,,',\n",
       " '3/17/2015 18:41:18,Otto,4,2,2,5,,,3,3,3',\n",
       " '3/17/2015 18:41:23,Alessandro,1,5,3,2,,,4,3,',\n",
       " '3/17/2015 18:41:35,Rocky,3,5,4,3,3,3,4,4,3',\n",
       " '3/17/2015 18:42:01,Cheong-tseng,3,1,,,,,4,,']"
      ]
     },
     "execution_count": 48,
     "metadata": {},
     "output_type": "execute_result"
    }
   ],
   "source": [
    "cleaned_lines = []\n",
    "for line in lines:\n",
    "    cleaned_lines.append(line.replace('\\n',''))\n",
    "cleaned_lines"
   ]
  },
  {
   "cell_type": "code",
   "execution_count": 58,
   "id": "fbea7854",
   "metadata": {},
   "outputs": [
    {
     "data": {
      "text/plain": [
       "['3/17/2015 18:37:58,Alison,3,5,4,3,,,5,5,',\n",
       " '3/17/2015 18:38:09,April,4,5,5,3,,,3,,5',\n",
       " '3/17/2015 18:38:25,Vijay,3,5,5,5,3,2,1,1,1',\n",
       " '3/17/2015 18:38:28,Vanessa,1,5,5,2,,,3,2,3',\n",
       " '3/17/2015 18:38:46,Isabel,1,4,4,2,4,,4,4,',\n",
       " '3/17/2015 18:39:01,India,5,3,3,3,3,1,,,3',\n",
       " '3/17/2015 18:39:01,Dave H,4,5,,5,,,,,',\n",
       " '3/17/2015 18:39:05,Deepthi,3,5,,2,,,,,2',\n",
       " '3/17/2015 18:39:14,Ramesh,3,4,,3,,,,,4',\n",
       " '3/17/2015 18:39:23,Hugh,1,5,5,4,5,2,5,4,1',\n",
       " '3/17/2015 18:39:23,Alex,4,5,,3,,,,,',\n",
       " '3/17/2015 18:39:30,Ajay Anand,3,4,4,3,5,,,,',\n",
       " '3/17/2015 18:39:35,David Feng,2,3,4,2,2,,5,4,3',\n",
       " '3/17/2015 18:39:42,Zach,3,4,4,3,,,,,5',\n",
       " '3/17/2015 18:40:44,Matt,3,5,4,3,2,2,4,3,2',\n",
       " '3/17/2015 18:40:49,Markus,3,5,,3,,,4,,',\n",
       " '3/17/2015 18:41:18,Otto,4,2,2,5,,,3,3,3',\n",
       " '3/17/2015 18:41:23,Alessandro,1,5,3,2,,,4,3,',\n",
       " '3/17/2015 18:41:35,Rocky,3,5,4,3,3,3,4,4,3',\n",
       " '3/17/2015 18:42:01,Cheong-tseng,3,1,,,,,4,,']"
      ]
     },
     "execution_count": 58,
     "metadata": {},
     "output_type": "execute_result"
    }
   ],
   "source": [
    "header = cleaned_lines[0]\n",
    "data1 = cleaned_lines[1:]\n",
    "header\n",
    "data1"
   ]
  },
  {
   "cell_type": "code",
   "execution_count": 50,
   "id": "d06fed25",
   "metadata": {},
   "outputs": [
    {
     "ename": "AttributeError",
     "evalue": "'list' object has no attribute 'split'",
     "output_type": "error",
     "traceback": [
      "\u001b[1;31m---------------------------------------------------------------------------\u001b[0m",
      "\u001b[1;31mAttributeError\u001b[0m                            Traceback (most recent call last)",
      "\u001b[1;32m<ipython-input-50-aaf2d63032b6>\u001b[0m in \u001b[0;36m<module>\u001b[1;34m\u001b[0m\n\u001b[1;32m----> 1\u001b[1;33m \u001b[0mdata1\u001b[0m \u001b[1;33m=\u001b[0m \u001b[1;33m[\u001b[0m\u001b[0mi\u001b[0m\u001b[1;33m.\u001b[0m\u001b[0msplit\u001b[0m\u001b[1;33m(\u001b[0m\u001b[1;34m','\u001b[0m\u001b[1;33m)\u001b[0m \u001b[1;32mfor\u001b[0m \u001b[0mi\u001b[0m \u001b[1;32min\u001b[0m \u001b[0mdata\u001b[0m\u001b[1;33m]\u001b[0m\u001b[1;33m\u001b[0m\u001b[1;33m\u001b[0m\u001b[0m\n\u001b[0m\u001b[0;32m      2\u001b[0m \u001b[0mheader\u001b[0m \u001b[1;33m=\u001b[0m \u001b[0mheader\u001b[0m\u001b[1;33m.\u001b[0m\u001b[0msplit\u001b[0m\u001b[1;33m(\u001b[0m\u001b[1;34m','\u001b[0m\u001b[1;33m)\u001b[0m\u001b[1;33m\u001b[0m\u001b[1;33m\u001b[0m\u001b[0m\n",
      "\u001b[1;32m<ipython-input-50-aaf2d63032b6>\u001b[0m in \u001b[0;36m<listcomp>\u001b[1;34m(.0)\u001b[0m\n\u001b[1;32m----> 1\u001b[1;33m \u001b[0mdata1\u001b[0m \u001b[1;33m=\u001b[0m \u001b[1;33m[\u001b[0m\u001b[0mi\u001b[0m\u001b[1;33m.\u001b[0m\u001b[0msplit\u001b[0m\u001b[1;33m(\u001b[0m\u001b[1;34m','\u001b[0m\u001b[1;33m)\u001b[0m \u001b[1;32mfor\u001b[0m \u001b[0mi\u001b[0m \u001b[1;32min\u001b[0m \u001b[0mdata\u001b[0m\u001b[1;33m]\u001b[0m\u001b[1;33m\u001b[0m\u001b[1;33m\u001b[0m\u001b[0m\n\u001b[0m\u001b[0;32m      2\u001b[0m \u001b[0mheader\u001b[0m \u001b[1;33m=\u001b[0m \u001b[0mheader\u001b[0m\u001b[1;33m.\u001b[0m\u001b[0msplit\u001b[0m\u001b[1;33m(\u001b[0m\u001b[1;34m','\u001b[0m\u001b[1;33m)\u001b[0m\u001b[1;33m\u001b[0m\u001b[1;33m\u001b[0m\u001b[0m\n",
      "\u001b[1;31mAttributeError\u001b[0m: 'list' object has no attribute 'split'"
     ]
    }
   ],
   "source": [
    "data1 = [i.split(',') for i in data]\n",
    "header = header.split(',')"
   ]
  },
  {
   "cell_type": "code",
   "execution_count": 51,
   "id": "a20bb22c",
   "metadata": {},
   "outputs": [
    {
     "data": {
      "text/plain": [
       "['3/17/2015 18:37:58,Alison,3,5,4,3,,,5,5,',\n",
       " '3/17/2015 18:38:09,April,4,5,5,3,,,3,,5',\n",
       " '3/17/2015 18:38:25,Vijay,3,5,5,5,3,2,1,1,1',\n",
       " '3/17/2015 18:38:28,Vanessa,1,5,5,2,,,3,2,3',\n",
       " '3/17/2015 18:38:46,Isabel,1,4,4,2,4,,4,4,',\n",
       " '3/17/2015 18:39:01,India,5,3,3,3,3,1,,,3',\n",
       " '3/17/2015 18:39:01,Dave H,4,5,,5,,,,,',\n",
       " '3/17/2015 18:39:05,Deepthi,3,5,,2,,,,,2',\n",
       " '3/17/2015 18:39:14,Ramesh,3,4,,3,,,,,4',\n",
       " '3/17/2015 18:39:23,Hugh,1,5,5,4,5,2,5,4,1',\n",
       " '3/17/2015 18:39:23,Alex,4,5,,3,,,,,',\n",
       " '3/17/2015 18:39:30,Ajay Anand,3,4,4,3,5,,,,',\n",
       " '3/17/2015 18:39:35,David Feng,2,3,4,2,2,,5,4,3',\n",
       " '3/17/2015 18:39:42,Zach,3,4,4,3,,,,,5',\n",
       " '3/17/2015 18:40:44,Matt,3,5,4,3,2,2,4,3,2',\n",
       " '3/17/2015 18:40:49,Markus,3,5,,3,,,4,,',\n",
       " '3/17/2015 18:41:18,Otto,4,2,2,5,,,3,3,3',\n",
       " '3/17/2015 18:41:23,Alessandro,1,5,3,2,,,4,3,',\n",
       " '3/17/2015 18:41:35,Rocky,3,5,4,3,3,3,4,4,3',\n",
       " '3/17/2015 18:42:01,Cheong-tseng,3,1,,,,,4,,']"
      ]
     },
     "execution_count": 51,
     "metadata": {},
     "output_type": "execute_result"
    }
   ],
   "source": [
    "data1"
   ]
  },
  {
   "cell_type": "code",
   "execution_count": 32,
   "id": "118cbec2",
   "metadata": {},
   "outputs": [],
   "source": [
    "header.remove('Timestamp')"
   ]
  },
  {
   "cell_type": "code",
   "execution_count": 63,
   "id": "603ad23e",
   "metadata": {},
   "outputs": [
    {
     "data": {
      "text/plain": [
       "[['4', '3', '', '', '5', '5', ''],\n",
       " ['5', '3', '', '', '3', '', '5'],\n",
       " ['5', '5', '3', '2', '1', '1', '1'],\n",
       " ['5', '2', '', '', '3', '2', '3'],\n",
       " ['4', '2', '4', '', '4', '4', ''],\n",
       " ['3', '3', '3', '1', '', '', '3'],\n",
       " ['', '5', '', '', '', '', ''],\n",
       " ['', '2', '', '', '', '', '2'],\n",
       " ['', '3', '', '', '', '', '4'],\n",
       " ['5', '4', '5', '2', '5', '4', '1'],\n",
       " ['', '3', '', '', '', '', ''],\n",
       " ['4', '3', '5', '', '', '', ''],\n",
       " ['4', '2', '2', '', '5', '4', '3'],\n",
       " ['4', '3', '', '', '', '', '5'],\n",
       " ['4', '3', '2', '2', '4', '3', '2'],\n",
       " ['', '3', '', '', '4', '', ''],\n",
       " ['2', '5', '', '', '3', '3', '3'],\n",
       " ['3', '2', '', '', '4', '3', ''],\n",
       " ['4', '3', '3', '3', '4', '4', '3'],\n",
       " ['', '', '', '', '4', '', '']]"
      ]
     },
     "execution_count": 63,
     "metadata": {},
     "output_type": "execute_result"
    }
   ],
   "source": [
    "header\n",
    "data1"
   ]
  },
  {
   "cell_type": "code",
   "execution_count": 61,
   "id": "dd764854",
   "metadata": {},
   "outputs": [],
   "source": [
    "data1 = [i[0:] for i in data]"
   ]
  },
  {
   "cell_type": "code",
   "execution_count": 62,
   "id": "c811321d",
   "metadata": {},
   "outputs": [
    {
     "data": {
      "text/plain": [
       "[['4', '3', '', '', '5', '5', ''],\n",
       " ['5', '3', '', '', '3', '', '5'],\n",
       " ['5', '5', '3', '2', '1', '1', '1'],\n",
       " ['5', '2', '', '', '3', '2', '3'],\n",
       " ['4', '2', '4', '', '4', '4', ''],\n",
       " ['3', '3', '3', '1', '', '', '3'],\n",
       " ['', '5', '', '', '', '', ''],\n",
       " ['', '2', '', '', '', '', '2'],\n",
       " ['', '3', '', '', '', '', '4'],\n",
       " ['5', '4', '5', '2', '5', '4', '1'],\n",
       " ['', '3', '', '', '', '', ''],\n",
       " ['4', '3', '5', '', '', '', ''],\n",
       " ['4', '2', '2', '', '5', '4', '3'],\n",
       " ['4', '3', '', '', '', '', '5'],\n",
       " ['4', '3', '2', '2', '4', '3', '2'],\n",
       " ['', '3', '', '', '4', '', ''],\n",
       " ['2', '5', '', '', '3', '3', '3'],\n",
       " ['3', '2', '', '', '4', '3', ''],\n",
       " ['4', '3', '3', '3', '4', '4', '3'],\n",
       " ['', '', '', '', '4', '', '']]"
      ]
     },
     "execution_count": 62,
     "metadata": {},
     "output_type": "execute_result"
    }
   ],
   "source": [
    "data1"
   ]
  },
  {
   "cell_type": "code",
   "execution_count": 64,
   "id": "2e76d5b9",
   "metadata": {},
   "outputs": [
    {
     "data": {
      "text/plain": [
       "[[4.0, 3.0, None, None, 5.0, 5.0, None],\n",
       " [5.0, 3.0, None, None, 3.0, None, 5.0],\n",
       " [5.0, 5.0, 3.0, 2.0, 1.0, 1.0, 1.0],\n",
       " [5.0, 2.0, None, None, 3.0, 2.0, 3.0],\n",
       " [4.0, 2.0, 4.0, None, 4.0, 4.0, None],\n",
       " [3.0, 3.0, 3.0, 1.0, None, None, 3.0],\n",
       " [None, 5.0, None, None, None, None, None],\n",
       " [None, 2.0, None, None, None, None, 2.0],\n",
       " [None, 3.0, None, None, None, None, 4.0],\n",
       " [5.0, 4.0, 5.0, 2.0, 5.0, 4.0, 1.0],\n",
       " [None, 3.0, None, None, None, None, None],\n",
       " [4.0, 3.0, 5.0, None, None, None, None],\n",
       " [4.0, 2.0, 2.0, None, 5.0, 4.0, 3.0],\n",
       " [4.0, 3.0, None, None, None, None, 5.0],\n",
       " [4.0, 3.0, 2.0, 2.0, 4.0, 3.0, 2.0],\n",
       " [None, 3.0, None, None, 4.0, None, None],\n",
       " [2.0, 5.0, None, None, 3.0, 3.0, 3.0],\n",
       " [3.0, 2.0, None, None, 4.0, 3.0, None],\n",
       " [4.0, 3.0, 3.0, 3.0, 4.0, 4.0, 3.0],\n",
       " [None, None, None, None, 4.0, None, None]]"
      ]
     },
     "execution_count": 64,
     "metadata": {},
     "output_type": "execute_result"
    }
   ],
   "source": [
    "new_data = []\n",
    "for item in data:\n",
    "    new_line=[]\n",
    "    for i in item:\n",
    "        if len(i) >1:\n",
    "            new_line.append(i)\n",
    "        else:\n",
    "            try:\n",
    "                new_line.append(float(i))\n",
    "            except:\n",
    "                new_line.append(None) # None is a special value in python that means 'Not There'\n",
    "    new_data.append(new_line)\n",
    "    \n",
    "new_data"
   ]
  },
  {
   "cell_type": "code",
   "execution_count": null,
   "id": "a6ec0835",
   "metadata": {},
   "outputs": [],
   "source": []
  }
 ],
 "metadata": {
  "kernelspec": {
   "display_name": "Python 3",
   "language": "python",
   "name": "python3"
  },
  "language_info": {
   "codemirror_mode": {
    "name": "ipython",
    "version": 3
   },
   "file_extension": ".py",
   "mimetype": "text/x-python",
   "name": "python",
   "nbconvert_exporter": "python",
   "pygments_lexer": "ipython3",
   "version": "3.8.8"
  }
 },
 "nbformat": 4,
 "nbformat_minor": 5
}
